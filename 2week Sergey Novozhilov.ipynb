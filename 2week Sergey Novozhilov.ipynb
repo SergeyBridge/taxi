{
 "cells": [
  {
   "cell_type": "code",
   "execution_count": 4,
   "metadata": {
    "collapsed": false,
    "deletable": true,
    "editable": true
   },
   "outputs": [],
   "source": [
    "import folium\n",
    "import os\n",
    "import pandas as pd\n",
    "import numpy as np\n",
    "import matplotlib.pyplot as plt\n",
    "import mpl_toolkits\n",
    "from mpl_toolkits.basemap import Basemap\n",
    "import matplotlib\n",
    "matplotlib.rc('font', family='Verdana')\n",
    "from geopandas.geoseries import *\n",
    "from shapely.geometry.polygon import Polygon\n",
    "\n",
    "%matplotlib inline"
   ]
  },
  {
   "cell_type": "code",
   "execution_count": 17,
   "metadata": {
    "collapsed": false
   },
   "outputs": [],
   "source": []
  },
  {
   "cell_type": "markdown",
   "metadata": {
    "deletable": true,
    "editable": true
   },
   "source": [
    "#### 1. Загрузите агрегированные данные о поездках в мае 2016. Просуммируйте общее количество поездок такси из каждой географической зоны и посчитайте количество ячеек, из которых в мае не было совершено ни одной поездки."
   ]
  },
  {
   "cell_type": "code",
   "execution_count": 8,
   "metadata": {
    "collapsed": false,
    "deletable": true,
    "editable": true
   },
   "outputs": [],
   "source": [
    "# Читаем данные\n",
    "data = pd.read_csv('../data/aggregated/2016-05.csv')\n",
    "regions = pd.read_csv('../data/regions.csv', sep=';')"
   ]
  },
  {
   "cell_type": "code",
   "execution_count": 9,
   "metadata": {
    "collapsed": false,
    "deletable": true,
    "editable": true
   },
   "outputs": [
    {
     "name": "stdout",
     "output_type": "stream",
     "text": [
      "\n",
      "Количество ячеек, из которых в мае не было совершено ни одной поездки =  1284\n"
     ]
    }
   ],
   "source": [
    "# Суммируем поездки из каждой зоны\n",
    "data['trips'] = np.sum(data.values[:, 1:], axis=1)\n",
    "trip_count = data.trips.value_counts()\n",
    "\n",
    "# Количество ячеек, из которых в мае не было совершено ни одной поездки\n",
    "print('\\nКоличество ячеек, из которых в мае не было совершено ни одной поездки = ', trip_count[0])\n"
   ]
  },
  {
   "cell_type": "markdown",
   "metadata": {
    "deletable": true,
    "editable": true
   },
   "source": [
    "#### 2.Нарисуйте статическую карту Нью-Йорка. Поставьте на карте точку там, где находится Эмпайр-Стейт-Билдинг.\n",
    "#### 3.Поверх статической карты Нью-Йорка визуализируйте данные о поездках из каждой ячейки так, чтобы цветовая шкала, в которую вы окрашиваете каждую ячейку, показывала суммарное количество поездок такси из неё."
   ]
  },
  {
   "cell_type": "code",
   "execution_count": 10,
   "metadata": {
    "collapsed": true,
    "deletable": true,
    "editable": true
   },
   "outputs": [],
   "source": [
    "# Коррдинаты Empire State Building\n",
    "ESB_lat, ESB_long = 40.747778, -73.985833\n",
    " "
   ]
  },
  {
   "cell_type": "code",
   "execution_count": 11,
   "metadata": {
    "collapsed": false,
    "deletable": true,
    "editable": true
   },
   "outputs": [],
   "source": [
    "# Районы города \n",
    "lon = np.unique([regions.west, regions.east])\n",
    "lat = np.unique([regions.south, regions.north])\n",
    "\n",
    "lon, lat = np.meshgrid(lon, lat)\n",
    "trips_shape = data.trips.values.reshape(50,50)\n"
   ]
  },
  {
   "cell_type": "code",
   "execution_count": null,
   "metadata": {
    "collapsed": false,
    "deletable": true,
    "editable": true
   },
   "outputs": [],
   "source": [
    "%%time\n",
    "fig, ax = plt.subplots(nrows=1, ncols=1, figsize=(10, 7))\n",
    "m = Basemap(area_thresh=0.01, ax=ax,\n",
    "            llcrnrlat= 40.49612, urcrnrlat= 40.91553,\n",
    "            llcrnrlon=-74.25559, urcrnrlon=-73.70001,\n",
    "            resolution='f',\n",
    "            projection='cyl')\n",
    "\n",
    "# Empire State Building\n",
    "m.plot(x=ESB_long, y=ESB_lat, marker='o' , color='b', zorder=11)\n",
    "plt.text(x=ESB_long-0.03, y=ESB_lat+0.01, color='b', s='Empire State Building', zorder=11)\n",
    "\n",
    "# Землю и воду на задний план, \n",
    "m.fillcontinents(color='green', lake_color='aqua', zorder=0, alpha=0, )\n",
    "\n",
    "# Основная карта-диаграмма\n",
    "cmap=plt.get_cmap('Paired')\n",
    "plt.pcolormesh(lon, lat, trips_shape, zorder=2, color='lightgray', cmap=cmap)\n",
    "\n",
    "# Сбоку рисуем colorbar\n",
    "plt.imshow(X=trips_shape, aspect='auto', cmap=cmap, alpha=0.3, zorder=12)\n",
    "plt.clim(0, max(data.trips) ) \n",
    "m.colorbar(label='Trips')\n",
    "\n",
    "# Очертания берегов\n",
    "m.drawcoastlines(color='gray', zorder=11)\n",
    "\n",
    "plt.title(u\"Исследуемая зона - квадрат со стороной ~46км\")\n",
    "print('\\n                                 Голубой цвет - очень мало поездок\\n')\n",
    "plt.show()\n"
   ]
  },
  {
   "cell_type": "markdown",
   "metadata": {
    "deletable": true,
    "editable": true
   },
   "source": [
    "#### 4.Вставьте интерактивную карту Нью-Йорка — такую, которую можно прокручивать и увеличивать. Поставьте метку там, где находится статуя свободы.\n",
    "#### 5. Нарисуйте на интерактивной карте Нью-Йорка ячейки так, чтобы их цвет показывал среднее за месяц количество поездок такси в час из этой зоны."
   ]
  },
  {
   "cell_type": "code",
   "execution_count": 12,
   "metadata": {
    "collapsed": true,
    "deletable": true,
    "editable": true
   },
   "outputs": [],
   "source": [
    "#Нью-Йорк вписан в прямоугольник от -74.25559 до -73.70001 градусов долготы и от 40.49612 до 40.91553 широты. \n",
    "NY = np.ravel([-74.25559, -73.70001, 40.49612, 40.91553])\n",
    "\n",
    "# Координата статуи свободы\n",
    "liberty = [40.689167, -74.044583]"
   ]
  },
  {
   "cell_type": "code",
   "execution_count": 13,
   "metadata": {
    "collapsed": false,
    "deletable": true,
    "editable": true
   },
   "outputs": [],
   "source": [
    "# Для folium надо подготовить индексы.\n",
    "# Согласование данных для choropleth, \n",
    "# Индекс regions.region в виде \"01\", \"02\"....., \"10\"....\n",
    "\n",
    "regions.region = ['{:0=2}'.format(s) for s in regions.region]\n",
    "\n",
    "data['trips_mean'] = (data.trips/744).astype(dtype=np.int64)\n",
    "data.region = ['{:0=2}'.format(s) for s in data.region]"
   ]
  },
  {
   "cell_type": "code",
   "execution_count": 18,
   "metadata": {
    "collapsed": false,
    "deletable": true,
    "editable": true
   },
   "outputs": [],
   "source": [
    "# GeoSeries содержит квадратные полигоны\n",
    "ll = [p for p in zip(regions.west, regions.south)]    \n",
    "lr = [p for p in zip(regions.east, regions.south)]    \n",
    "ul = [p for p in zip(regions.west, regions.north)]    \n",
    "ur = [p for p in zip(regions.east, regions.north)]    \n",
    "\n",
    "poly = GeoSeries([Polygon(p) for p in zip(ll, lr, ur, ul)])\n",
    "poly.index = ['{:0=2}'.format(s) for s in poly.index+1]\n",
    "\n",
    "poly_json = poly.to_json()\n"
   ]
  },
  {
   "cell_type": "code",
   "execution_count": null,
   "metadata": {
    "collapsed": false,
    "deletable": true,
    "editable": true
   },
   "outputs": [],
   "source": [
    "# Карта\n",
    "m = folium.Map(min_lon=NY[0], max_lon=NY[1], min_lat=NY[2], max_lat=NY[3],\n",
    "               location=liberty, \n",
    "               zoom_start=9)\n",
    "\n",
    "# Маркер для Статуи Свободы\n",
    "folium.Marker(liberty, popup=\"Statue of Liberty \").add_to(m)\n",
    "\n",
    "\n",
    "# Choropleth - интерактивная карта\n",
    "m.choropleth(geo_str=poly_json, data=data, columns=['region', 'trips_mean'],\n",
    "             fill_color='Set2', fill_opacity=0.5, \n",
    "             line_color='black', line_opacity=.5, line_weight=.1,\n",
    "             key_on = 'feature.id',\n",
    "             threshold_scale=[0, 5, 500, max(data.trips_mean)+1],\n",
    "            )\n",
    "#m.save(os.path.join('results', 'RectangleMarker_and_PolygonMarker_0.html'))\n",
    "print('\\n                                           Оранжевый цвет - минимум поездок, 0-5 в час\\n')\n",
    "m"
   ]
  },
  {
   "cell_type": "code",
   "execution_count": null,
   "metadata": {
    "collapsed": false,
    "deletable": true,
    "editable": true
   },
   "outputs": [],
   "source": [
    "print('оранжевый цвет - очень мало поездок, 0-5 в час')"
   ]
  },
  {
   "cell_type": "markdown",
   "metadata": {
    "collapsed": true,
    "deletable": true,
    "editable": true
   },
   "source": [
    "#### 6.Чтобы не выбирать из всех 2500 ячеек вручную, отфильтруйте ячейки, из которых в мае совершается в среднем меньше 5 поездок в час. Посчитайте количество оставшихся. Проверьте на карте, что среди этих ячеек нет таких, из которых поездки на самом деле невозможны."
   ]
  },
  {
   "cell_type": "code",
   "execution_count": null,
   "metadata": {
    "collapsed": false,
    "deletable": true,
    "editable": true
   },
   "outputs": [],
   "source": [
    "poly_05 = poly[data.region[data.trips_mean>=5]]\n",
    "\n",
    "poly_05_json = poly_05.to_json()\n",
    "\n",
    "m_05 = folium.Map(min_lon=NY[0], max_lon=NY[1], min_lat=NY[2], max_lat=NY[3],\n",
    "                  location=liberty,\n",
    "                  tiles='Stamen Toner',\n",
    "                  zoom_start=11)\n",
    "\n",
    "\n",
    "m_05.choropleth(geo_str=poly_05_json, data=data, columns=['region', 'trips_mean'],\n",
    "                fill_color='Set2', fill_opacity=0.8, \n",
    "                line_color='black', line_opacity=.5, line_weight=.1,\n",
    "                key_on = 'feature.id',\n",
    "                threshold_scale=[0, 5, 500, max(data.trips_mean)+1],\n",
    "                legend_name='kjkh')\n",
    "\n",
    "print('Всего ячеек', poly.shape)\n",
    "print('Ячейки, из которых в мае совершается в среднем не меньше 5 поездок в час.= ', poly_05.shape[0])\n",
    "\n",
    "m_05"
   ]
  },
  {
   "cell_type": "markdown",
   "metadata": {
    "deletable": true,
    "editable": true
   },
   "source": [
    "#### На карте видно, что из любой ячейки, из которой совершается не менне 5 поездок в час, есть возможность проехать на такси."
   ]
  },
  {
   "cell_type": "code",
   "execution_count": null,
   "metadata": {
    "collapsed": false,
    "deletable": true,
    "editable": true
   },
   "outputs": [],
   "source": [
    "\n",
    "len(poly_05.index)"
   ]
  },
  {
   "cell_type": "code",
   "execution_count": null,
   "metadata": {
    "collapsed": false,
    "deletable": true,
    "editable": true
   },
   "outputs": [],
   "source": [
    "\n",
    "# Функция сохранения в файл массива\n",
    "def save_arr(fname, arr, sep=','):\n",
    "    #print(len(arr), type(arr))\n",
    "    with open(fname,\"w\") as fout:\n",
    "        fout.write(sep.join([el for el in arr]))\n"
   ]
  },
  {
   "cell_type": "code",
   "execution_count": null,
   "metadata": {
    "collapsed": false,
    "deletable": true,
    "editable": true,
    "scrolled": true
   },
   "outputs": [],
   "source": [
    "save_arr(fname='../data/regs_05.csv', arr=poly_05.index)\n",
    "poly_05.head()"
   ]
  },
  {
   "cell_type": "code",
   "execution_count": null,
   "metadata": {
    "collapsed": true,
    "deletable": true,
    "editable": true
   },
   "outputs": [],
   "source": []
  }
 ],
 "metadata": {
  "anaconda-cloud": {},
  "kernelspec": {
   "display_name": "Python [conda root]",
   "language": "python",
   "name": "conda-root-py"
  },
  "language_info": {
   "codemirror_mode": {
    "name": "ipython",
    "version": 3
   },
   "file_extension": ".py",
   "mimetype": "text/x-python",
   "name": "python",
   "nbconvert_exporter": "python",
   "pygments_lexer": "ipython3",
   "version": "3.5.4"
  }
 },
 "nbformat": 4,
 "nbformat_minor": 1
}
