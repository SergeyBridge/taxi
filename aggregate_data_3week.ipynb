{
 "cells": [
  {
   "cell_type": "code",
   "execution_count": 1,
   "metadata": {
    "collapsed": true,
    "deletable": true,
    "editable": true
   },
   "outputs": [],
   "source": [
    "import pandas as pd\n",
    "import numpy as np\n",
    "import os\n",
    "from pandas.tseries.offsets import Hour\n",
    "import matplotlib.pyplot as plt\n",
    "\n",
    "%matplotlib inline"
   ]
  },
  {
   "cell_type": "code",
   "execution_count": 2,
   "metadata": {
    "collapsed": false,
    "deletable": true,
    "editable": true
   },
   "outputs": [
    {
     "name": "stdout",
     "output_type": "stream",
     "text": [
      "Wall time: 29.8 s\n"
     ]
    }
   ],
   "source": [
    "%%time\n",
    "\n",
    "path = '../data/aggregated/'\n",
    "files = [x for x in filter(lambda x: x.endswith('.csv'), os.listdir(path))]\n",
    "\n",
    "regs_05 = np.ravel( [int(x) for x in  pd.read_csv('../data/regs_05.csv', nrows=1).columns ])\n",
    "\n",
    "data = pd.DataFrame()\n",
    "\n",
    "for fname in files:\n",
    "    aggr = pd.read_csv(path+fname, sep=',', index_col='region').T\n",
    "    aggr = aggr.get(regs_05)\n",
    "\n",
    "    month = pd.to_datetime(fname.replace('.csv', ''))\n",
    "    offset_hour = np.array( [Hour(offset.replace('H', '')) for offset in aggr.index])\n",
    "    aggr.index = [month + offset for offset in offset_hour]\n",
    "    data = pd.concat([data, aggr], join='inner')\n",
    "\n"
   ]
  },
  {
   "cell_type": "code",
   "execution_count": 3,
   "metadata": {
    "collapsed": false,
    "deletable": true,
    "editable": true
   },
   "outputs": [
    {
     "data": {
      "text/html": [
       "<div>\n",
       "<table border=\"1\" class=\"dataframe\">\n",
       "  <thead>\n",
       "    <tr style=\"text-align: right;\">\n",
       "      <th>region</th>\n",
       "      <th>1075</th>\n",
       "      <th>1076</th>\n",
       "      <th>1077</th>\n",
       "      <th>1125</th>\n",
       "      <th>1126</th>\n",
       "      <th>1127</th>\n",
       "      <th>1128</th>\n",
       "      <th>1129</th>\n",
       "      <th>1130</th>\n",
       "      <th>1131</th>\n",
       "      <th>...</th>\n",
       "      <th>1630</th>\n",
       "      <th>1684</th>\n",
       "      <th>1733</th>\n",
       "      <th>1734</th>\n",
       "      <th>1783</th>\n",
       "      <th>2068</th>\n",
       "      <th>2069</th>\n",
       "      <th>2118</th>\n",
       "      <th>2119</th>\n",
       "      <th>2168</th>\n",
       "    </tr>\n",
       "  </thead>\n",
       "  <tbody>\n",
       "    <tr>\n",
       "      <th>2009-01-01 00:00:00</th>\n",
       "      <td>40</td>\n",
       "      <td>90</td>\n",
       "      <td>27</td>\n",
       "      <td>39</td>\n",
       "      <td>182</td>\n",
       "      <td>308</td>\n",
       "      <td>333</td>\n",
       "      <td>413</td>\n",
       "      <td>413</td>\n",
       "      <td>184</td>\n",
       "      <td>...</td>\n",
       "      <td>4</td>\n",
       "      <td>0</td>\n",
       "      <td>0</td>\n",
       "      <td>46</td>\n",
       "      <td>16</td>\n",
       "      <td>11</td>\n",
       "      <td>0</td>\n",
       "      <td>46</td>\n",
       "      <td>7</td>\n",
       "      <td>6</td>\n",
       "    </tr>\n",
       "    <tr>\n",
       "      <th>2009-01-01 01:00:00</th>\n",
       "      <td>39</td>\n",
       "      <td>108</td>\n",
       "      <td>31</td>\n",
       "      <td>52</td>\n",
       "      <td>225</td>\n",
       "      <td>330</td>\n",
       "      <td>252</td>\n",
       "      <td>355</td>\n",
       "      <td>279</td>\n",
       "      <td>154</td>\n",
       "      <td>...</td>\n",
       "      <td>8</td>\n",
       "      <td>0</td>\n",
       "      <td>2</td>\n",
       "      <td>6</td>\n",
       "      <td>18</td>\n",
       "      <td>6</td>\n",
       "      <td>1</td>\n",
       "      <td>23</td>\n",
       "      <td>4</td>\n",
       "      <td>3</td>\n",
       "    </tr>\n",
       "    <tr>\n",
       "      <th>2009-01-01 02:00:00</th>\n",
       "      <td>31</td>\n",
       "      <td>84</td>\n",
       "      <td>26</td>\n",
       "      <td>67</td>\n",
       "      <td>213</td>\n",
       "      <td>313</td>\n",
       "      <td>243</td>\n",
       "      <td>340</td>\n",
       "      <td>224</td>\n",
       "      <td>124</td>\n",
       "      <td>...</td>\n",
       "      <td>11</td>\n",
       "      <td>0</td>\n",
       "      <td>3</td>\n",
       "      <td>1</td>\n",
       "      <td>1</td>\n",
       "      <td>1</td>\n",
       "      <td>0</td>\n",
       "      <td>9</td>\n",
       "      <td>0</td>\n",
       "      <td>1</td>\n",
       "    </tr>\n",
       "    <tr>\n",
       "      <th>2009-01-01 03:00:00</th>\n",
       "      <td>27</td>\n",
       "      <td>78</td>\n",
       "      <td>17</td>\n",
       "      <td>49</td>\n",
       "      <td>186</td>\n",
       "      <td>280</td>\n",
       "      <td>237</td>\n",
       "      <td>285</td>\n",
       "      <td>181</td>\n",
       "      <td>125</td>\n",
       "      <td>...</td>\n",
       "      <td>12</td>\n",
       "      <td>0</td>\n",
       "      <td>0</td>\n",
       "      <td>0</td>\n",
       "      <td>0</td>\n",
       "      <td>0</td>\n",
       "      <td>0</td>\n",
       "      <td>6</td>\n",
       "      <td>0</td>\n",
       "      <td>0</td>\n",
       "    </tr>\n",
       "    <tr>\n",
       "      <th>2009-01-01 04:00:00</th>\n",
       "      <td>16</td>\n",
       "      <td>41</td>\n",
       "      <td>7</td>\n",
       "      <td>37</td>\n",
       "      <td>103</td>\n",
       "      <td>220</td>\n",
       "      <td>215</td>\n",
       "      <td>244</td>\n",
       "      <td>208</td>\n",
       "      <td>97</td>\n",
       "      <td>...</td>\n",
       "      <td>15</td>\n",
       "      <td>0</td>\n",
       "      <td>1</td>\n",
       "      <td>0</td>\n",
       "      <td>1</td>\n",
       "      <td>1</td>\n",
       "      <td>0</td>\n",
       "      <td>2</td>\n",
       "      <td>0</td>\n",
       "      <td>0</td>\n",
       "    </tr>\n",
       "  </tbody>\n",
       "</table>\n",
       "<p>5 rows × 102 columns</p>\n",
       "</div>"
      ],
      "text/plain": [
       "region               1075  1076  1077  1125  1126  1127  1128  1129  1130  \\\n",
       "2009-01-01 00:00:00    40    90    27    39   182   308   333   413   413   \n",
       "2009-01-01 01:00:00    39   108    31    52   225   330   252   355   279   \n",
       "2009-01-01 02:00:00    31    84    26    67   213   313   243   340   224   \n",
       "2009-01-01 03:00:00    27    78    17    49   186   280   237   285   181   \n",
       "2009-01-01 04:00:00    16    41     7    37   103   220   215   244   208   \n",
       "\n",
       "region               1131  ...   1630  1684  1733  1734  1783  2068  2069  \\\n",
       "2009-01-01 00:00:00   184  ...      4     0     0    46    16    11     0   \n",
       "2009-01-01 01:00:00   154  ...      8     0     2     6    18     6     1   \n",
       "2009-01-01 02:00:00   124  ...     11     0     3     1     1     1     0   \n",
       "2009-01-01 03:00:00   125  ...     12     0     0     0     0     0     0   \n",
       "2009-01-01 04:00:00    97  ...     15     0     1     0     1     1     0   \n",
       "\n",
       "region               2118  2119  2168  \n",
       "2009-01-01 00:00:00    46     7     6  \n",
       "2009-01-01 01:00:00    23     4     3  \n",
       "2009-01-01 02:00:00     9     0     1  \n",
       "2009-01-01 03:00:00     6     0     0  \n",
       "2009-01-01 04:00:00     2     0     0  \n",
       "\n",
       "[5 rows x 102 columns]"
      ]
     },
     "execution_count": 3,
     "metadata": {},
     "output_type": "execute_result"
    }
   ],
   "source": [
    "data.head()"
   ]
  },
  {
   "cell_type": "code",
   "execution_count": 4,
   "metadata": {
    "collapsed": false,
    "deletable": true,
    "editable": true
   },
   "outputs": [],
   "source": [
    "dups = data.index.duplicated(keep='last') \n",
    "\n",
    "data = data.loc[~dups].sort_index()"
   ]
  },
  {
   "cell_type": "code",
   "execution_count": 5,
   "metadata": {
    "collapsed": false,
    "deletable": true,
    "editable": true
   },
   "outputs": [
    {
     "name": "stdout",
     "output_type": "stream",
     "text": [
      "Wall time: 2.65 s\n"
     ]
    }
   ],
   "source": [
    "%%time\n",
    "\n",
    "h1 = pd.Timedelta('1 hour')    # Сдвиг на 1 час\n",
    "h2 = pd.Timedelta('2 hour')    \n",
    "week = pd.Timedelta('167 hour')    # Сдвиг на неделю минус один час\n",
    "\n",
    "df = pd.DataFrame(columns=data.columns)\n",
    "\n",
    "for t, t1 in zip(data.index, data.index[1:]):\n",
    "    delta_t = pd.Timedelta(t1-t)\n",
    "    if delta_t == h2:\n",
    "        df.loc[t+h1] = data.loc[t - week]\n",
    "\n",
    "data = pd.concat([data,df])\n",
    "data.sort_index(inplace=True)"
   ]
  },
  {
   "cell_type": "code",
   "execution_count": 6,
   "metadata": {
    "collapsed": true,
    "deletable": true,
    "editable": true
   },
   "outputs": [],
   "source": [
    "with open('aggregated_hours_3week_2009.01_2016.06.csv',\"w\") as fout:\n",
    "    data.to_csv(fout, index_label='date')"
   ]
  },
  {
   "cell_type": "code",
   "execution_count": null,
   "metadata": {
    "collapsed": true,
    "deletable": true,
    "editable": true
   },
   "outputs": [],
   "source": []
  }
 ],
 "metadata": {
  "anaconda-cloud": {},
  "kernelspec": {
   "display_name": "Python [conda root]",
   "language": "python",
   "name": "conda-root-py"
  },
  "language_info": {
   "codemirror_mode": {
    "name": "ipython",
    "version": 3
   },
   "file_extension": ".py",
   "mimetype": "text/x-python",
   "name": "python",
   "nbconvert_exporter": "python",
   "pygments_lexer": "ipython3",
   "version": "3.5.4"
  }
 },
 "nbformat": 4,
 "nbformat_minor": 2
}
